{
 "cells": [
  {
   "cell_type": "code",
   "execution_count": 88,
   "metadata": {
    "collapsed": true
   },
   "outputs": [],
   "source": [
    "def generate_all_boards():\n",
    "    '''In Fischer Random Chess both sides look the same, to generate a board we need only\n",
    "       follow the selection rules.\n",
    "    '''\n",
    "    backranks = []\n",
    "    for bishop_1_position in range(0,8,2):\n",
    "        for bishop_2_position in range(1,8,2):\n",
    "            for queen_position in range(8):\n",
    "                for knight_1_position in range(1,8):\n",
    "                    for knight_2_position in range(knight_1_position):\n",
    "                        if knight_1_position == queen_position:\n",
    "                            continue\n",
    "                        if knight_2_position == queen_position:\n",
    "                            continue\n",
    "                        if bishop_1_position == queen_position:\n",
    "                            continue\n",
    "                        if bishop_2_position == queen_position:\n",
    "                            continue\n",
    "                        if knight_1_position == bishop_1_position:\n",
    "                            continue\n",
    "                        if knight_1_position == bishop_2_position:\n",
    "                            continue\n",
    "                        if knight_2_position == bishop_1_position:\n",
    "                            continue\n",
    "                        if knight_2_position == bishop_2_position:\n",
    "                            continue\n",
    "                        possible_positions = [i for i in range(8) if i not in \n",
    "                                              [knight_1_position,knight_2_position,\n",
    "                                               queen_position,bishop_1_position,\n",
    "                                               bishop_2_position]\n",
    "                                              ]\n",
    "                        rook_1_position = min(possible_positions)\n",
    "                        rook_2_position = max(possible_positions)\n",
    "                        possible_positions.remove(rook_1_position)\n",
    "                        possible_positions.remove(rook_2_position)\n",
    "                        king_position = possible_positions[0]\n",
    "                        backrank = {'K':king_position}\n",
    "                        backrank['R1'] = rook_1_position\n",
    "                        backrank['R2'] = rook_2_position\n",
    "                        backrank['Q']=queen_position\n",
    "                        backrank['B1']=bishop_1_position\n",
    "                        backrank['B2']=bishop_2_position\n",
    "                        backrank['N1']=knight_1_position\n",
    "                        backrank['N2']=knight_2_position\n",
    "                        backranks = backranks+[backrank]\n",
    "    return backranks"
   ]
  },
  {
   "cell_type": "code",
   "execution_count": 89,
   "metadata": {},
   "outputs": [],
   "source": [
    "possible_boards = generate_all_boards()"
   ]
  },
  {
   "cell_type": "code",
   "execution_count": 90,
   "metadata": {},
   "outputs": [],
   "source": [
    "unique_boards= [dict(s) for s in set(frozenset(d.items()) for d in possible_boards)]\n"
   ]
  },
  {
   "cell_type": "code",
   "execution_count": 96,
   "metadata": {},
   "outputs": [],
   "source": [
    "def diagonal_positions(king_position):\n",
    "    blah = {}\n",
    "    if king_position-3<0:\n",
    "        blah['left'] = -1\n",
    "    else:\n",
    "        blah['left'] = king_position+1\n",
    "    if 4-king_position<0:\n",
    "        blah['right'] = -1\n",
    "    else:\n",
    "        blah['right'] = king_position-1\n",
    "    return blah"
   ]
  },
  {
   "cell_type": "code",
   "execution_count": 128,
   "metadata": {},
   "outputs": [],
   "source": [
    "def find_fools_mate(board):\n",
    "    king_position =  board['K']\n",
    "    diagonal = [board[i] for i in ['B1','B2','Q']]\n",
    "    horizontal = [board[i] for i in ['R1','R2','Q']]\n",
    "    knights = [board[i] for i in ['N1','N2']]\n",
    "    attacking_positions = diagonal_positions(king_position)\n",
    "    # Check attacks from the left\n",
    "    if attacking_positions['left'] in diagonal:\n",
    "        if king_position+1 not in knights and king_position-1 not in knights\\\n",
    "            and king_position-3 not in knights\\\n",
    "            and king_position-2 not in diagonal\\\n",
    "            and king_position-1 not in horizontal:\n",
    "            return True\n",
    "        \n",
    "    # Check for attacks from the right\n",
    "    if attacking_positions['right'] in diagonal:\n",
    "        if king_position-1 not in knights and king_position+1 not in knights\\\n",
    "            and king_position+3 not in knights\\\n",
    "            and king_position+2 not in diagonal\\\n",
    "            and king_position+1 not in horizontal:\n",
    "            return True \n",
    "            \n",
    "    # Check for special castle\n",
    "    if king_position == 3 and board['R1'] == 2:\n",
    "        if 5 in diagonal:\n",
    "            if 0 not in diagonal\\\n",
    "                    and 1 not in horizontal\\\n",
    "                    and 1 not in knights:\n",
    "                return True\n",
    "            \n",
    "    # Attack from left in a weird way        \n",
    "    if king_position == 2:\n",
    "        if 5 in diagonal:\n",
    "            if 0 not in diagonal\\\n",
    "                    and 1 not in horizontal:\n",
    "                if 1 not in knights\\\n",
    "                    or 3 not in knights:\n",
    "                    return True\n",
    "            \n",
    "    # Attack from right in a weird way        \n",
    "    if king_position == 5:\n",
    "        if 2 in diagonal:\n",
    "            if 7 not in diagonal\\\n",
    "                    and 6 not in horizontal:\n",
    "                if 4 not in knights\\\n",
    "                    or 6 not in knights:\n",
    "                    return True\n",
    "\n",
    "    return False"
   ]
  },
  {
   "cell_type": "code",
   "execution_count": 129,
   "metadata": {},
   "outputs": [],
   "source": [
    "boards_with_fools_mate = [i for i in unique_boards if find_fools_mate(i)]"
   ]
  },
  {
   "cell_type": "code",
   "execution_count": 130,
   "metadata": {},
   "outputs": [
    {
     "data": {
      "text/plain": [
       "60"
      ]
     },
     "execution_count": 130,
     "metadata": {},
     "output_type": "execute_result"
    }
   ],
   "source": [
    "len(boards_with_fools_mate)"
   ]
  },
  {
   "cell_type": "code",
   "execution_count": null,
   "metadata": {},
   "outputs": [],
   "source": []
  }
 ],
 "metadata": {
  "kernelspec": {
   "display_name": "Python 2",
   "language": "python",
   "name": "python2"
  },
  "language_info": {
   "codemirror_mode": {
    "name": "ipython",
    "version": 2
   },
   "file_extension": ".py",
   "mimetype": "text/x-python",
   "name": "python",
   "nbconvert_exporter": "python",
   "pygments_lexer": "ipython2",
   "version": "2.7.6"
  }
 },
 "nbformat": 4,
 "nbformat_minor": 0
}
